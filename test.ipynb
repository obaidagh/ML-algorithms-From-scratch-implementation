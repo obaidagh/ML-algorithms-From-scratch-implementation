{
 "cells": [
  {
   "cell_type": "code",
   "execution_count": 27,
   "metadata": {},
   "outputs": [],
   "source": [
    "from clustering.kmeans import Kmeans\n",
    "\n",
    "import numpy as np"
   ]
  },
  {
   "cell_type": "code",
   "execution_count": 28,
   "metadata": {},
   "outputs": [],
   "source": [
    "from sklearn.datasets import make_blobs\n",
    "\n",
    "centers = [(-5, -5),(-1, -5), (5, 5)]\n",
    "cluster_std = [0.8,0.8, 1]\n",
    "\n",
    "x, _ = make_blobs(n_samples=100, cluster_std=cluster_std, centers=centers, n_features=2)"
   ]
  },
  {
   "cell_type": "code",
   "execution_count": 29,
   "metadata": {},
   "outputs": [],
   "source": [
    "model = Kmeans(no_clusters=3, random_state=42, iters=10, distance='manhattan')"
   ]
  },
  {
   "cell_type": "code",
   "execution_count": 30,
   "metadata": {},
   "outputs": [
    {
     "name": "stdout",
     "output_type": "stream",
     "text": [
      "Finished 1 iterations\n",
      "Finished 2 iterations\n",
      "Finished 3 iterations\n",
      "Finished 4 iterations\n",
      "Finished 5 iterations\n",
      "Finished 6 iterations\n",
      "Finished 7 iterations\n",
      "Finished 8 iterations\n",
      "Finished 9 iterations\n",
      "Finished 10 iterations\n"
     ]
    }
   ],
   "source": [
    "model.fit(x)"
   ]
  }
 ],
 "metadata": {
  "kernelspec": {
   "display_name": "Python 3.9.13 ('base')",
   "language": "python",
   "name": "python3"
  },
  "language_info": {
   "codemirror_mode": {
    "name": "ipython",
    "version": 3
   },
   "file_extension": ".py",
   "mimetype": "text/x-python",
   "name": "python",
   "nbconvert_exporter": "python",
   "pygments_lexer": "ipython3",
   "version": "3.9.13"
  },
  "orig_nbformat": 4,
  "vscode": {
   "interpreter": {
    "hash": "36426ead222327eaf98b7ef020e60912101eb782bbe202ac201f9bb38ec1a105"
   }
  }
 },
 "nbformat": 4,
 "nbformat_minor": 2
}
