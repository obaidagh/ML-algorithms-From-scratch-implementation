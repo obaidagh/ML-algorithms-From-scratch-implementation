{
 "cells": [
  {
   "cell_type": "code",
   "execution_count": 11,
   "metadata": {},
   "outputs": [],
   "source": [
    "from Kmeans import *"
   ]
  },
  {
   "cell_type": "code",
   "execution_count": 12,
   "metadata": {},
   "outputs": [],
   "source": [
    "from sklearn.datasets import make_blobs\n",
    "\n",
    "centers = [(-5, -5),(-1, -5), (5, 5)]\n",
    "cluster_std = [0.8,0.8, 1]\n",
    "\n",
    "x, _ = make_blobs(n_samples=100, cluster_std=cluster_std, centers=centers, n_features=2)\n",
    "data={}\n",
    "for i in range(len(x)):\n",
    "    data[i]=list(x[i])\n",
    "    "
   ]
  },
  {
   "cell_type": "code",
   "execution_count": 13,
   "metadata": {},
   "outputs": [
    {
     "data": {
      "text/plain": [
       "numpy.ndarray"
      ]
     },
     "execution_count": 13,
     "metadata": {},
     "output_type": "execute_result"
    }
   ],
   "source": [
    "type(x)"
   ]
  },
  {
   "cell_type": "code",
   "execution_count": 32,
   "metadata": {},
   "outputs": [],
   "source": [
    "model=k_means(3,42,50,\"ecludiean\")\n"
   ]
  },
  {
   "cell_type": "code",
   "execution_count": 33,
   "metadata": {},
   "outputs": [
    {
     "name": "stdout",
     "output_type": "stream",
     "text": [
      "Finished 1 iteration\n",
      "Finished 2 iteration\n",
      "Finished 3 iteration\n",
      "Finished 4 iteration\n",
      "Finished 5 iteration\n",
      "Finished 6 iteration\n",
      "Finished 7 iteration\n",
      "Finished 8 iteration\n",
      "Finished 9 iteration\n",
      "Finished 10 iteration\n",
      "Finished 11 iteration\n",
      "Finished 12 iteration\n",
      "Finished 13 iteration\n",
      "Finished 14 iteration\n",
      "Finished 15 iteration\n",
      "Finished 16 iteration\n",
      "Finished 17 iteration\n",
      "Finished 18 iteration\n",
      "Finished 19 iteration\n",
      "Finished 20 iteration\n",
      "Finished 21 iteration\n",
      "Finished 22 iteration\n",
      "Finished 23 iteration\n",
      "Finished 24 iteration\n",
      "Finished 25 iteration\n",
      "Finished 26 iteration\n",
      "Finished 27 iteration\n",
      "Finished 28 iteration\n",
      "Finished 29 iteration\n",
      "Finished 30 iteration\n",
      "Finished 31 iteration\n",
      "Finished 32 iteration\n",
      "Finished 33 iteration\n",
      "Finished 34 iteration\n",
      "Finished 35 iteration\n",
      "Finished 36 iteration\n",
      "Finished 37 iteration\n",
      "Finished 38 iteration\n",
      "Finished 39 iteration\n",
      "Finished 40 iteration\n",
      "Finished 41 iteration\n",
      "Finished 42 iteration\n",
      "Finished 43 iteration\n",
      "Finished 44 iteration\n",
      "Finished 45 iteration\n",
      "Finished 46 iteration\n",
      "Finished 47 iteration\n",
      "Finished 48 iteration\n",
      "Finished 49 iteration\n",
      "Finished 50 iteration\n"
     ]
    }
   ],
   "source": [
    "model.fit(x)"
   ]
  },
  {
   "cell_type": "code",
   "execution_count": 34,
   "metadata": {},
   "outputs": [
    {
     "data": {
      "text/plain": [
       "[(-0.9164103952273984, -4.782935231971782),\n",
       " (5.285390439204507, 5.258361048160049),\n",
       " (-5.183408447176954, -4.955881546997361)]"
      ]
     },
     "execution_count": 34,
     "metadata": {},
     "output_type": "execute_result"
    }
   ],
   "source": [
    "model.get_centroids()"
   ]
  },
  {
   "cell_type": "code",
   "execution_count": null,
   "metadata": {},
   "outputs": [],
   "source": []
  }
 ],
 "metadata": {
  "kernelspec": {
   "display_name": "Python 3.9.13 ('base')",
   "language": "python",
   "name": "python3"
  },
  "language_info": {
   "codemirror_mode": {
    "name": "ipython",
    "version": 3
   },
   "file_extension": ".py",
   "mimetype": "text/x-python",
   "name": "python",
   "nbconvert_exporter": "python",
   "pygments_lexer": "ipython3",
   "version": "3.9.13"
  },
  "orig_nbformat": 4,
  "vscode": {
   "interpreter": {
    "hash": "36426ead222327eaf98b7ef020e60912101eb782bbe202ac201f9bb38ec1a105"
   }
  }
 },
 "nbformat": 4,
 "nbformat_minor": 2
}
